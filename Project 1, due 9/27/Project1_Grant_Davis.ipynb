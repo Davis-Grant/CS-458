{
 "cells": [
  {
   "cell_type": "markdown",
   "metadata": {
    "id": "41ncDfQIZ5gG"
   },
   "source": [
    "# **Project 1 Report**\n",
    "\n",
    "Grant Davis\n",
    "\n",
    "CS458"
   ]
  },
  {
   "cell_type": "markdown",
   "metadata": {
    "id": "h8goBinPaYnd"
   },
   "source": [
    "## **P1-1. Curse of Dimensionality**\n",
    "\n",
    "**(a) Generate 1000 points following a uniform distribution under a given dimension, and then compute difference between max and min distance between any pair of points. Hint: Refer to the tutorial “Introduction to Numpy and Pandas” on how to generate random points.**"
   ]
  },
  {
   "cell_type": "markdown",
   "metadata": {
    "id": "Y697pjx7bEqB"
   },
   "source": [
    "**(b) Repeat (a) for different dimensions from 2 to 50.**"
   ]
  },
  {
   "cell_type": "code",
   "execution_count": 6,
   "metadata": {
    "colab": {
     "base_uri": "https://localhost:8080/",
     "height": 35
    },
    "id": "VGfsolCrbInO",
    "outputId": "6ad9aa14-3a19-4410-d01d-801cf0297e49",
    "scrolled": false
   },
   "outputs": [],
   "source": [
    "import numpy as np\n",
    "from matplotlib import pyplot as plt\n",
    "from scipy.spatial import ConvexHull\n",
    "from scipy.spatial.distance import cdist\n",
    "from progressbar import progressbar\n",
    "\n",
    "NUM_POINTS = 50\n",
    "MAX_ITERATIONS = 10\n",
    "\n",
    "##Functions\n",
    "#Find Min/Max points Function\n",
    "def findMinMax(p):\n",
    "  #Extraction of points forming the convex hull\n",
    "  hull = ConvexHull(p)\n",
    "  hullpoints = p[hull.vertices,:]\n",
    "  hdist = cdist(hullpoints, hullpoints, metric='euclidean')\n",
    "  \n",
    "  #Min/Max points\n",
    "  maxpair = np.unravel_index(hdist.argmax(), hdist.shape)\n",
    "  i,j = np.where(hdist==np.min(hdist[np.nonzero(hdist)]))\n",
    "\n",
    "  pairPoints = np.array([(np.linalg.norm(hullpoints[i][0] - hullpoints[i][1])),(np.linalg.norm(hullpoints[maxpair[0]] - hullpoints[maxpair[1]]))])\n",
    "  logDiff = np.log10((pairPoints[1]-pairPoints[0])/pairPoints[0])\n",
    "  print(logDiff)\n",
    "  logDiffs.append(logDiff)\n",
    "\n",
    "#Curse of Dimensionality Graph Function\n",
    "def curseGraph():\n",
    "  x = np.arange(2,MAX_ITERATIONS)\n",
    "  y = logDiffs\n",
    "  plt.title(\"Curse of Dimensionality\") \n",
    "  plt.xlabel(\"Number of Dimensions\") \n",
    "  plt.ylabel(\"Log_10 * ((Max-Min)/Min)\") \n",
    "  plt.plot(x,y) \n",
    "  plt.show()\n",
    "\n",
    "logDiffs = []\n",
    "\n",
    "##Run Curse of Dimensionality\n",
    "for x in range(2,MAX_ITERATIONS):\n",
    "  print(f\"({x}/{MAX_ITERATIONS}): \", end='')\n",
    "  findMinMax(np.random.rand(NUM_POINTS,x))\n",
    "\n",
    "curseGraph()"
   ]
  },
  {
   "cell_type": "markdown",
   "metadata": {
    "id": "0NqsEu79cftE"
   },
   "source": [
    "(2/10): 1.0814941798021713\n",
    "\n",
    "(3/10): 1.3156547989618175\n",
    "\n",
    "(4/10): 1.2073302289966508\n",
    "\n",
    "(5/10): 0.8844795227092559\n",
    "\n",
    "(6/10): 0.7747844527933487\n",
    "\n",
    "(7/10): 0.7777922517130524\n",
    "\n",
    "(8/10): 0.5741849693594667\n",
    "\n",
    "(9/10): 0.6348518949926998\n"
   ]
  },
  {
   "cell_type": "markdown",
   "metadata": {},
   "source": [
    "![<caption>](Untitled.png)"
   ]
  },
  {
   "cell_type": "markdown",
   "metadata": {},
   "source": [
    "When generating a large amount of points with more than 10 dimensions the time to complete the process became exponentially longer. I was able to show the Curse of dimensionality with less points for a similar amount of dimensions."
   ]
  },
  {
   "cell_type": "markdown",
   "metadata": {
    "id": "_vusqyELcnd5"
   },
   "source": [
    "# **P1-2. The Iris Dataset (https://en.wikipedia.org/wiki/Iris_flower_data_set)**"
   ]
  },
  {
   "cell_type": "markdown",
   "metadata": {
    "id": "XbKeiSBCcx64"
   },
   "source": [
    "**(a) Data Visualization. Duplicate the following figure using scatter plot.**"
   ]
  },
  {
   "cell_type": "code",
   "execution_count": 7,
   "metadata": {
    "colab": {
     "base_uri": "https://localhost:8080/",
     "height": 35
    },
    "id": "UTBWTnSxcsJc",
    "outputId": "26c32d3a-4da7-4b25-f252-420d65dcc9c0"
   },
   "outputs": [],
   "source": [
    "import matplotlib.pyplot as plt\n",
    "from matplotlib.patches import Rectangle\n",
    "import numpy as np\n",
    "import sys\n",
    "import subprocess\n",
    "subprocess.check_call([sys.executable, '-m', 'pip', 'install', 'sklearn'])\n",
    "from sklearn import datasets\n",
    "from sklearn.cluster import KMeans\n",
    "\n",
    "NUM_PLOTS = 4\n",
    "\n",
    "#Generate 16 Iris plots\n",
    "def plots():\n",
    "  for v in range(NUM_PLOTS):\n",
    "    for h in range(NUM_PLOTS):\n",
    "      if (v != h):\n",
    "        axs[v][h].scatter(x[:, h], x[:, v], s=7, c=y, cmap=plt.cm.brg, edgecolor='k', linewidth=0.5)\n",
    "      else:\n",
    "        axs[v][h].text(0.5, 0.5, TitleList[v], horizontalalignment='center', verticalalignment='center', clip_on=True)\n",
    "        axs[v][h].xaxis.set_visible(False)\n",
    "        axs[v][h].yaxis.set_visible(False)\n",
    "\n",
    "#import iris dataset\n",
    "iris = datasets.load_iris()\n",
    "x = iris.data\n",
    "y = iris.target\n",
    "\n",
    "MarkerList = ['s', 'o', 'd']\n",
    "TitleList = [\"Sepal Length\", \"Sepal Width\", \"Petal Length\", \"Petal Width\"]\n",
    "\n",
    "#Figure 1\n",
    "fig, axs = plt.subplots(NUM_PLOTS, NUM_PLOTS)\n",
    "fig.suptitle(\"Iris Data (blue=setosa, red=versicolor, green=virginica)\")\n",
    "#Figure 2\n",
    "fig2, axs2 = plt.subplots()\n",
    "\n",
    "plots()\n",
    "plt.show()"
   ]
  },
  {
   "cell_type": "markdown",
   "metadata": {
    "id": "m70sWNEMc0a8"
   },
   "source": [
    "**(b) Find the best discretization for the petal length and the petal width that can best separate the Iris data and plot a figure similar to the figure in slide 54 in Chapter 2. For each flower type, list in a table how many data samples are correctly separated and how many are not correctly separated.**"
   ]
  },
  {
   "cell_type": "code",
   "execution_count": 8,
   "metadata": {
    "colab": {
     "base_uri": "https://localhost:8080/",
     "height": 35
    },
    "id": "F5PVO7WkdCAh",
    "outputId": "f2c32dae-0b60-4c19-d490-c29d47f08444"
   },
   "outputs": [],
   "source": [
    "import matplotlib.pyplot as plt\n",
    "from matplotlib.patches import Rectangle\n",
    "import numpy as np\n",
    "import sys\n",
    "import subprocess\n",
    "subprocess.check_call([sys.executable, '-m', 'pip', 'install', 'sklearn'])\n",
    "from sklearn import datasets\n",
    "from sklearn.cluster import KMeans\n",
    "\n",
    "NUM_PLOTS = 4\n",
    "\n",
    "#Generate 16 Iris plots\n",
    "def plots():\n",
    "  for v in range(NUM_PLOTS):\n",
    "    for h in range(NUM_PLOTS):\n",
    "      if (v != h):\n",
    "        axs[v][h].scatter(x[:, h], x[:, v], s=7, c=y, cmap=plt.cm.brg, edgecolor='k', linewidth=0.5)\n",
    "      else:\n",
    "        axs[v][h].text(0.5, 0.5, TitleList[v], horizontalalignment='center', verticalalignment='center', clip_on=True)\n",
    "        axs[v][h].xaxis.set_visible(False)\n",
    "        axs[v][h].yaxis.set_visible(False)\n",
    "\n",
    "def discretization():\n",
    "  #Scatter var\n",
    "  IrisLabels = ['Setosa', 'Versicolor', 'Virginica']\n",
    "  for i in range(np.prod(y.shape)):\n",
    "    axs2.scatter(x[i, 2], x[i, 3], marker=MarkerList[int(i/50)], c='k', s=10.0)\n",
    "  for l in range(len(IrisLabels)):\n",
    "    axs2.scatter([],[],color='k', label=IrisLabels[l], marker=MarkerList[l])\n",
    "  axs2.legend()\n",
    "  \n",
    "  #Delete unnecessary var\n",
    "  ClusterArray = np.delete(x, [0,1], 1)\n",
    "\n",
    "  #Generate clusters\n",
    "  axs2.set_xlabel(\"Petal Length (cm)\")\n",
    "  axs2.set_ylabel(\"Petal Width (cm)\")\n",
    "  km = KMeans(n_clusters=3)\n",
    "  km.fit(ClusterArray)\n",
    "\n",
    "  #Find centroids and plot them\n",
    "  km_cntr = km.cluster_centers_\n",
    "  axs2.scatter(km_cntr[:, 0], km_cntr[:, 1], c='red', s=15.0)\n",
    "  \n",
    "  #Create rectangles\n",
    "  CentroidRectangleLengths = np.empty((0,2))\n",
    "  for i in range(0,101,50):\n",
    "    try:\n",
    "      val_min_x, val_max_x = np.min(np.delete(ClusterArray[i:(i+50)], 1, 1), axis=0), np.max(np.delete(ClusterArray[i:(i+50)], 1, 1), axis=0)\n",
    "      val_min_y, val_max_y = np.min(np.delete(ClusterArray[i:(i+50)], 0, 1), axis=0), np.max(np.delete(ClusterArray[i:(i+50)], 0, 1), axis=0)\n",
    "      x_len, y_len = val_max_x-val_min_x, val_max_y-val_min_y\n",
    "      CentroidRectangleLengths = np.append(CentroidRectangleLengths, [np.concatenate((x_len, y_len))], axis=0)\n",
    "    except ValueError:\n",
    "      pass\n",
    "  \n",
    "  #Plot rectangles\n",
    "  index=0\n",
    "  sortedCenters = np.sort(km_cntr, axis=0)\n",
    "  for c in (sortedCenters):\n",
    "    width, height = CentroidRectangleLengths[index][0], CentroidRectangleLengths[index][1]\n",
    "    axs2.add_patch(Rectangle(\n",
    "      xy=(c[0]-width/2, c[1]-height/2), width=width, height=height, linewidth=1, color='black', fill=False))\n",
    "    index += 1\n",
    "\n",
    "#import iris dataset\n",
    "iris = datasets.load_iris()\n",
    "x = iris.data\n",
    "y = iris.target\n",
    "\n",
    "MarkerList = ['s', 'o', 'd']\n",
    "TitleList = [\"Sepal Length\", \"Sepal Width\", \"Petal Length\", \"Petal Width\"]\n",
    "\n",
    "#Figure 1\n",
    "fig, axs = plt.subplots(NUM_PLOTS, NUM_PLOTS)\n",
    "fig.suptitle(\"Iris Data (blue=setosa, red=versicolor, green=virginica)\")\n",
    "#Figure 2\n",
    "fig2, axs2 = plt.subplots()\n",
    "\n",
    "plots()\n",
    "discretization()\n",
    "plt.show()"
   ]
  },
  {
   "cell_type": "markdown",
   "metadata": {},
   "source": [
    "![<caption>](p1-2-1.png)\n",
    "![<caption>](p1-2-2.png)"
   ]
  },
  {
   "cell_type": "markdown",
   "metadata": {},
   "source": [
    "Each cluster is plotted naively as each flower has 50 points each. The markers are spaced by 50.\n",
    "\n",
    "The flower types that are correctly spaced are 50/50 for each group. The rectangles, which some overlap, are not correct.\n",
    "\n",
    "Setosa had 48 correct and 2 incorrect,Versicolor had 49 correct and 1 incorrect, and Virginica had 48 correct and 2 incorrect."
   ]
  },
  {
   "cell_type": "markdown",
   "metadata": {
    "id": "ot87gIvndb4b"
   },
   "source": [
    "# **P1-3. Principal Component Analysis for The Iris Dataset**"
   ]
  },
  {
   "cell_type": "markdown",
   "metadata": {
    "id": "YcX7qMj9dfLm"
   },
   "source": [
    "**(a) Use the Iris dataset and plot all the samples in a figure using Sepal Length and Sepal Width, i.e., xlabel('Sepal length') and ylabel('Sepal width').**"
   ]
  },
  {
   "cell_type": "code",
   "execution_count": 9,
   "metadata": {
    "colab": {
     "base_uri": "https://localhost:8080/",
     "height": 35
    },
    "id": "Sqsx5tNndiDU",
    "outputId": "04b343b5-b8df-463a-cca9-2cbdd24d459c"
   },
   "outputs": [],
   "source": [
    "import matplotlib.pyplot as plt\n",
    "from matplotlib.patches import Rectangle\n",
    "import numpy as np\n",
    "import sys\n",
    "import subprocess\n",
    "subprocess.check_call([sys.executable, '-m', 'pip', 'install', 'sklearn'])\n",
    "from sklearn.decomposition import PCA\n",
    "from sklearn import datasets\n",
    "\n",
    "##Functions\n",
    "#No Decomposition\n",
    "def basePlot():\n",
    "  axs.scatter(x[:, 0], x[:, 1], c=y, cmap=plt.cm.brg)\n",
    "  axs.set_xlabel(\"Sepal Length (cm)\")\n",
    "  axs.set_ylabel(\"Sepal width (cm)\")\n",
    "\n",
    "#Import Iris Dataset\n",
    "iris = datasets.load_iris()\n",
    "x = iris.data\n",
    "y = iris.target\n",
    "IrisLabels = ['Versicolor', 'Setosa', 'Virginica']\n",
    "PlotColors = ['r', 'b', 'g']\n",
    "\n",
    "fig, axs = plt.subplots()\n",
    "fig2, axs2 = plt.subplots()\n",
    "\n",
    "basePlot()\n",
    "\n",
    "leg = []\n",
    "for l in range(len(IrisLabels)):\n",
    "  leg.append(Rectangle((0,0),1,1,fc=PlotColors[l]))\n",
    "axs.legend(leg, IrisLabels)\n",
    "axs2.legend(leg, IrisLabels)\n",
    "plt.show()"
   ]
  },
  {
   "cell_type": "markdown",
   "metadata": {
    "id": "-Pix10eIdvcX"
   },
   "source": [
    "**(b)The Iris dataset has 4 attributes (sepal length, sepal width, petal length, and petal width). Use PCA to reduce the dimension of the dataset from 4 to 2. Plot all the samples after the dimensionality reduction in a 2D figure. Compare this figure with the figure in (a) and discuss whether you can better separate the data samples after the dimensionality reduction.**"
   ]
  },
  {
   "cell_type": "code",
   "execution_count": 10,
   "metadata": {
    "colab": {
     "base_uri": "https://localhost:8080/",
     "height": 35
    },
    "id": "9AzoG0W3d4y_",
    "outputId": "4e6a6c07-b975-4d9a-93ed-eca479945c00"
   },
   "outputs": [],
   "source": [
    "import matplotlib.pyplot as plt\n",
    "from matplotlib.patches import Rectangle\n",
    "import numpy as np\n",
    "import sys\n",
    "import subprocess\n",
    "subprocess.check_call([sys.executable, '-m', 'pip', 'install', 'sklearn'])\n",
    "from sklearn.decomposition import PCA\n",
    "from sklearn import datasets\n",
    "\n",
    "##Functions\n",
    "#Decompostion\n",
    "def PCAPlot():\n",
    "  pca_iris = PCA(3)\n",
    "  pca_iris.fit(x)\n",
    "  decomp_x = pca_iris.transform(x)\n",
    "  axs2.scatter(decomp_x[:,0], decomp_x[:,1], c=y, cmap=plt.cm.brg)\n",
    "  axs2.set_xlabel(\"Sepal Length (cm)\")\n",
    "  axs2.set_ylabel(\"Sepal width (cm)\")\n",
    "\n",
    "#No Decomposition\n",
    "def basePlot():\n",
    "  axs.scatter(x[:, 0], x[:, 1], c=y, cmap=plt.cm.brg)\n",
    "  axs.set_xlabel(\"Sepal Length (cm)\")\n",
    "  axs.set_ylabel(\"Sepal width (cm)\")\n",
    "\n",
    "#Import Iris Dataset\n",
    "iris = datasets.load_iris()\n",
    "x = iris.data\n",
    "y = iris.target\n",
    "IrisLabels = ['Versicolor', 'Setosa', 'Virginica']\n",
    "PlotColors = ['r', 'b', 'g']\n",
    "\n",
    "fig, axs = plt.subplots()\n",
    "fig2, axs2 = plt.subplots()\n",
    "\n",
    "basePlot()\n",
    "PCAPlot()\n",
    "\n",
    "leg = []\n",
    "for l in range(len(IrisLabels)):\n",
    "  leg.append(Rectangle((0,0),1,1,fc=PlotColors[l]))\n",
    "axs.legend(leg, IrisLabels)\n",
    "axs2.legend(leg, IrisLabels)\n",
    "plt.show()"
   ]
  },
  {
   "cell_type": "markdown",
   "metadata": {},
   "source": [
    "![<caption>](p1-3-1.png)\n",
    "![<caption>](p1111.png)"
   ]
  },
  {
   "cell_type": "markdown",
   "metadata": {},
   "source": [
    "After dimensionality reduction the data samples are easily separated. Veriscolor and Virginica flower samples are still about the same, while Setosa flower has a distinct sepration compared to the others."
   ]
  }
 ],
 "metadata": {
  "colab": {
   "name": "ProjectTemplate.ipynb",
   "provenance": []
  },
  "kernelspec": {
   "display_name": "Python 3",
   "language": "python",
   "name": "python3"
  },
  "language_info": {
   "codemirror_mode": {
    "name": "ipython",
    "version": 3
   },
   "file_extension": ".py",
   "mimetype": "text/x-python",
   "name": "python",
   "nbconvert_exporter": "python",
   "pygments_lexer": "ipython3",
   "version": "3.7.3"
  }
 },
 "nbformat": 4,
 "nbformat_minor": 1
}
